{
 "cells": [
  {
   "cell_type": "code",
   "execution_count": 1,
   "id": "02decc95",
   "metadata": {},
   "outputs": [],
   "source": [
    "import cv2\n",
    "import mediapipe as mp\n",
    "import numpy as np\n",
    "import pandas as pd"
   ]
  },
  {
   "cell_type": "code",
   "execution_count": 2,
   "id": "9df4ed07",
   "metadata": {},
   "outputs": [],
   "source": [
    "def detection_landmark(img, model):\n",
    "    img = cv2.cvtColor(img, cv2.COLOR_BGR2RGB)\n",
    "    img.flags.writeable = False\n",
    "    results = model.process(img)\n",
    "    img.flags.writeable = True\n",
    "    img = cv2.cvtColor(img, cv2.COLOR_RGB2BGR)\n",
    "    return img, results"
   ]
  },
  {
   "cell_type": "code",
   "execution_count": 3,
   "id": "d42e000c",
   "metadata": {},
   "outputs": [],
   "source": [
    "def draw_landmark(results, img):\n",
    "    mp_drawing.draw_landmarks(img, results.pose_landmarks, mp_holistic.POSE_CONNECTIONS,\n",
    "                             mp_drawing.DrawingSpec(color=(80, 22, 10), thickness=2, circle_radius=2),\n",
    "                             mp_drawing.DrawingSpec(color=(80, 66, 122), thickness=2, circle_radius=1))\n",
    "    mp_drawing.draw_landmarks(img, results.left_hand_landmarks, mp_holistic.HAND_CONNECTIONS,\n",
    "                             mp_drawing.DrawingSpec(color=(245, 117, 66), thickness=2, circle_radius=2),\n",
    "                             mp_drawing.DrawingSpec(color=(245, 66, 230), thickness=2, circle_radius=1))\n",
    "    mp_drawing.draw_landmarks(img, results.right_hand_landmarks, mp_holistic.HAND_CONNECTIONS,\n",
    "                             mp_drawing.DrawingSpec(color=(121, 22, 76), thickness=2, circle_radius=2),\n",
    "                             mp_drawing.DrawingSpec(color=(121, 44, 250), thickness=2, circle_radius=1))"
   ]
  },
  {
   "cell_type": "code",
   "execution_count": 25,
   "id": "48680e36",
   "metadata": {},
   "outputs": [],
   "source": [
    "# Tạo thư viện mediapipe\n",
    "mp_holistic = mp.solutions.holistic\n",
    "mp_drawing = mp.solutions.drawing_utils\n",
    "\n",
    "camera_id = 0\n",
    "cap = cv2.VideoCapture(camera_id)\n",
    "\n",
    "label = \"Swinghand\"\n",
    "lm_lst = []\n",
    "no_frames = 500\n",
    "\n",
    "\n",
    "with mp_holistic.Holistic(min_detection_confidence=0.5, min_tracking_confidence=0.5) as holistic:\n",
    "    while len(lm_lst)<no_frames:\n",
    "        ret, frame = cap.read()\n",
    "    \n",
    "        #Detect\n",
    "        image, results = detection_landmark(frame, holistic)\n",
    "\n",
    "        #Draw\n",
    "        draw_landmark(results, image)\n",
    "        \n",
    "        #Extract Keypoints\n",
    "        extract = extract_keypoints(results)\n",
    "        lm_lst.append(extract)\n",
    "\n",
    "        cv2.imshow('image', image)\n",
    "        if cv2.waitKey(1) & 0xFF == ord('q'):\n",
    "            break\n",
    "    \n",
    "    df = pd.DataFrame(lm_lst)\n",
    "    df.to_csv(label + \".txt\")\n",
    "\n",
    "    cap.release()\n",
    "    cv2.destroyAllWindows()"
   ]
  },
  {
   "cell_type": "code",
   "execution_count": 4,
   "id": "a602643c",
   "metadata": {},
   "outputs": [],
   "source": [
    "def extract_keypoints(results):\n",
    "    lm = []\n",
    "    for res in results.pose_landmarks.landmark:\n",
    "        lm.append(res.x)\n",
    "        lm.append(res.y)\n",
    "        lm.append(res.z)\n",
    "        lm.append(res.visibility)\n",
    "    if results.left_hand_landmarks:\n",
    "        for res in results.left_hand_landmarks.landmark:\n",
    "            lm.append(res.x)\n",
    "            lm.append(res.y)\n",
    "            lm.append(res.z)\n",
    "    else:\n",
    "        for res in range(21):\n",
    "            lm.append(0)\n",
    "            lm.append(0)\n",
    "            lm.append(0)\n",
    "    if results.right_hand_landmarks:             \n",
    "        for res in results.right_hand_landmarks.landmark:\n",
    "            lm.append(res.x)\n",
    "            lm.append(res.y)\n",
    "            lm.append(res.z)\n",
    "    else:\n",
    "         for res in range(21):\n",
    "            lm.append(0)\n",
    "            lm.append(0)\n",
    "            lm.append(0)     \n",
    "                  \n",
    "    return lm"
   ]
  },
  {
   "cell_type": "code",
   "execution_count": 25,
   "id": "925093bb",
   "metadata": {},
   "outputs": [],
   "source": [
    "from keras.layers import LSTM, Dense, Dropout\n",
    "from keras.models import Sequential\n",
    "from sklearn.model_selection import train_test_split\n",
    "from sklearn.preprocessing import LabelBinarizer"
   ]
  },
  {
   "cell_type": "code",
   "execution_count": 26,
   "id": "5136f6dc",
   "metadata": {},
   "outputs": [],
   "source": [
    "Iloveu = pd.read_csv(\"Iloveu.txt\")\n",
    "Thanks = pd.read_csv(\"Thanks.txt\")\n",
    "Swinghand = pd.read_csv(\"Swinghand.txt\")\n",
    "X = []\n",
    "y = []\n",
    "\n",
    "no_tiem_steps = 10\n",
    "\n",
    "dataset = Iloveu.iloc[:, 1:].values\n",
    "n_samples= len(dataset)\n",
    "for i in range(no_tiem_steps, n_samples):\n",
    "    X.append(dataset[i-no_tiem_steps:i, :])\n",
    "    y.append(0)\n",
    "dataset = Thanks.iloc[:, 1:].values\n",
    "n_samples= len(dataset)\n",
    "for i in range(no_tiem_steps, n_samples):\n",
    "    X.append(dataset[i-no_tiem_steps:i, :])\n",
    "    y.append(1)\n",
    "dataset = Swinghand.iloc[:, 1:].values\n",
    "n_samples= len(dataset)\n",
    "for i in range(no_tiem_steps, n_samples):\n",
    "    X.append(dataset[i-no_tiem_steps:i, :])\n",
    "    y.append(2)"
   ]
  },
  {
   "cell_type": "code",
   "execution_count": 27,
   "id": "4a8b3177",
   "metadata": {},
   "outputs": [
    {
     "data": {
      "text/plain": [
       "((1470, 10, 258), (1470, 3))"
      ]
     },
     "execution_count": 27,
     "metadata": {},
     "output_type": "execute_result"
    }
   ],
   "source": [
    "encoder = LabelBinarizer()\n",
    "y = encoder.fit_transform(y)\n",
    "X, y =np.array(X), np.array(y)\n",
    "X.shape, y.shape"
   ]
  },
  {
   "cell_type": "code",
   "execution_count": 28,
   "id": "0a40b81d",
   "metadata": {},
   "outputs": [],
   "source": [
    "X_train, X_test, y_train, y_test = train_test_split(X, y, test_size=0.25)"
   ]
  },
  {
   "cell_type": "code",
   "execution_count": 29,
   "id": "e3d3988b",
   "metadata": {},
   "outputs": [
    {
     "name": "stdout",
     "output_type": "stream",
     "text": [
      "Epoch 1/16\n",
      "35/35 [==============================] - 19s 149ms/step - loss: 0.6924 - accuracy: 0.6987 - val_loss: 0.5437 - val_accuracy: 0.6929\n",
      "Epoch 2/16\n",
      "35/35 [==============================] - 2s 45ms/step - loss: 0.3414 - accuracy: 0.8503 - val_loss: 0.1284 - val_accuracy: 0.9565\n",
      "Epoch 3/16\n",
      "35/35 [==============================] - 2s 54ms/step - loss: 0.2136 - accuracy: 0.9247 - val_loss: 0.1789 - val_accuracy: 0.9321\n",
      "Epoch 4/16\n",
      "35/35 [==============================] - 2s 50ms/step - loss: 0.0778 - accuracy: 0.9764 - val_loss: 0.0227 - val_accuracy: 0.9891\n",
      "Epoch 5/16\n",
      "35/35 [==============================] - 2s 46ms/step - loss: 0.0323 - accuracy: 0.9909 - val_loss: 0.0202 - val_accuracy: 0.9918\n",
      "Epoch 6/16\n",
      "35/35 [==============================] - 2s 49ms/step - loss: 0.0369 - accuracy: 0.9918 - val_loss: 0.1038 - val_accuracy: 0.9701\n",
      "Epoch 7/16\n",
      "35/35 [==============================] - 2s 51ms/step - loss: 0.0508 - accuracy: 0.9864 - val_loss: 0.0058 - val_accuracy: 1.0000\n",
      "Epoch 8/16\n",
      "35/35 [==============================] - 2s 48ms/step - loss: 0.0144 - accuracy: 0.9955 - val_loss: 0.0034 - val_accuracy: 1.0000\n",
      "Epoch 9/16\n",
      "35/35 [==============================] - 2s 51ms/step - loss: 0.0673 - accuracy: 0.9782 - val_loss: 0.2922 - val_accuracy: 0.9022\n",
      "Epoch 10/16\n",
      "35/35 [==============================] - 2s 48ms/step - loss: 0.0276 - accuracy: 0.9909 - val_loss: 0.0035 - val_accuracy: 1.0000\n",
      "Epoch 11/16\n",
      "35/35 [==============================] - 2s 53ms/step - loss: 0.0035 - accuracy: 1.0000 - val_loss: 0.0016 - val_accuracy: 1.0000\n",
      "Epoch 12/16\n",
      "35/35 [==============================] - 2s 55ms/step - loss: 0.0024 - accuracy: 1.0000 - val_loss: 9.1739e-04 - val_accuracy: 1.0000\n",
      "Epoch 13/16\n",
      "35/35 [==============================] - 2s 50ms/step - loss: 0.0014 - accuracy: 1.0000 - val_loss: 6.6623e-04 - val_accuracy: 1.0000\n",
      "Epoch 14/16\n",
      "35/35 [==============================] - 2s 49ms/step - loss: 0.0012 - accuracy: 1.0000 - val_loss: 5.4803e-04 - val_accuracy: 1.0000\n",
      "Epoch 15/16\n",
      "35/35 [==============================] - 2s 51ms/step - loss: 0.0011 - accuracy: 1.0000 - val_loss: 4.9201e-04 - val_accuracy: 1.0000\n",
      "Epoch 16/16\n",
      "35/35 [==============================] - 2s 48ms/step - loss: 9.4253e-04 - accuracy: 1.0000 - val_loss: 4.0231e-04 - val_accuracy: 1.0000\n"
     ]
    }
   ],
   "source": [
    "model = Sequential()\n",
    "model.add(LSTM(units=50, return_sequences=True,input_shape=(X.shape[1], X.shape[2])))\n",
    "model.add(Dropout(0.2))\n",
    "model.add(LSTM(units=50, return_sequences=True))\n",
    "model.add(Dropout(0.2))\n",
    "model.add(LSTM(units=50, return_sequences=True))\n",
    "model.add(Dropout(0.3))\n",
    "model.add(LSTM(units=50))\n",
    "model.add(Dropout(0.3))\n",
    "model.add(Dense(units=3, activation=\"softmax\"))\n",
    "\n",
    "model.compile(optimizer=\"Adam\", metrics=['accuracy'], loss = \"categorical_crossentropy\")\n",
    "model.fit(X_train, y_train, epochs=16, validation_data=(X_test, y_test))\n",
    "model.save(\"model.h5\")"
   ]
  },
  {
   "cell_type": "code",
   "execution_count": 39,
   "id": "e0c95582",
   "metadata": {},
   "outputs": [],
   "source": [
    "import threading\n",
    "import keras.models\n",
    "def detect(lm_lst, model):\n",
    "    global label\n",
    "    lm_lst= np.array(lm_lst)\n",
    "    lm_lst_tensor = np.expand_dims(lm_lst, axis=0)\n",
    "    action_result= model.predict(lm_lst_tensor)\n",
    "    if np.max(action_result) > 0.9:\n",
    "        label = act_dict[np.argmax(action_result)]\n",
    "    return label"
   ]
  },
  {
   "cell_type": "code",
   "execution_count": 46,
   "id": "c66efb5a",
   "metadata": {},
   "outputs": [
    {
     "name": "stdout",
     "output_type": "stream",
     "text": [
      "1/1 [==============================] - 5s 5s/step\n",
      "1/1 [==============================] - 3s 3s/step\n",
      "1/1 [==============================] - 1s 1s/step\n",
      "1/1 [==============================] - 0s 53ms/step\n",
      "1/1 [==============================] - 1s 630ms/step\n",
      "1/1 [==============================] - 0s 100ms/step\n",
      "1/1 [==============================] - 0s 66ms/step\n",
      "1/1 [==============================] - 0s 62ms/step\n",
      "1/1 [==============================] - 0s 127ms/step\n",
      "1/1 [==============================] - 0s 106ms/step\n",
      "1/1 [==============================] - 0s 69ms/step\n",
      "1/1 [==============================] - 0s 50ms/step\n",
      "1/1 [==============================] - 0s 66ms/step\n",
      "1/1 [==============================] - 0s 47ms/step\n",
      "1/1 [==============================] - 0s 53ms/step\n",
      "1/1 [==============================] - 0s 62ms/step\n",
      "1/1 [==============================] - 0s 63ms/step\n",
      "1/1 [==============================] - 0s 51ms/step\n",
      "1/1 [==============================] - 0s 47ms/step\n"
     ]
    }
   ],
   "source": [
    "mp_holistic = mp.solutions.holistic\n",
    "mp_drawing = mp.solutions.drawing_utils\n",
    "\n",
    "camera_id = 0\n",
    "cap = cv2.VideoCapture(camera_id)\n",
    "#load model\n",
    "model = keras.models.load_model(\"model.h5\")\n",
    "act_dict= {0:'Iloveu', 1:'Thanks',2:'Swinghand'}\n",
    "lm_lst = []\n",
    "label = \"...\"\n",
    "no_frames = 0\n",
    "with mp_holistic.Holistic(min_detection_confidence=0.5, min_tracking_confidence=0.5) as holistic:\n",
    "    while True:\n",
    "        ret, frame = cap.read()\n",
    "            \n",
    "        #Detect\n",
    "        image, results = detection_landmark(frame, holistic)\n",
    "            \n",
    "        if no_frames < 50:\n",
    "            label = \"Wating for detecting...\"\n",
    "           \n",
    "        else:\n",
    "            #Draw\n",
    "            draw_landmark(results, image)\n",
    "\n",
    "            #Extract Keypoints\n",
    "            extract = extract_keypoints(results)\n",
    "            lm_lst.append(extract)\n",
    "            if len(lm_lst) == 10:\n",
    "                t1 = threading.Thread(target=detect, args=(lm_lst, model))\n",
    "                t1.start()\n",
    "                lm_lst = []\n",
    "\n",
    "            \n",
    "        cv2.putText(image, label,\n",
    "                    (200,100), cv2.FONT_HERSHEY_SIMPLEX, 1, (0,0,255), 2)\n",
    "\n",
    "        cv2.imshow('image', image)\n",
    "        no_frames += 1 \n",
    "        if cv2.waitKey(1) & 0xFF == ord('q'):\n",
    "            break\n",
    "\n",
    "    cap.release()\n",
    "    cv2.destroyAllWindows()"
   ]
  },
  {
   "cell_type": "code",
   "execution_count": null,
   "id": "22b654bd",
   "metadata": {},
   "outputs": [],
   "source": []
  }
 ],
 "metadata": {
  "kernelspec": {
   "display_name": "Python 3 (ipykernel)",
   "language": "python",
   "name": "python3"
  },
  "language_info": {
   "codemirror_mode": {
    "name": "ipython",
    "version": 3
   },
   "file_extension": ".py",
   "mimetype": "text/x-python",
   "name": "python",
   "nbconvert_exporter": "python",
   "pygments_lexer": "ipython3",
   "version": "3.10.6"
  }
 },
 "nbformat": 4,
 "nbformat_minor": 5
}
